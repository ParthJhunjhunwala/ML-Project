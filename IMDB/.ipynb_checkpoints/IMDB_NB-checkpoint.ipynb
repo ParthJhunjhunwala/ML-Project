{
 "cells": [
  {
   "cell_type": "code",
   "execution_count": 1,
   "metadata": {},
   "outputs": [],
   "source": [
    "import pandas as pd\n",
    "\n",
    "df = pd.read_csv('imdb_master.csv', encoding = \"ISO-8859-1\")"
   ]
  },
  {
   "cell_type": "code",
   "execution_count": 2,
   "metadata": {},
   "outputs": [
    {
     "data": {
      "text/html": [
       "<div>\n",
       "<style scoped>\n",
       "    .dataframe tbody tr th:only-of-type {\n",
       "        vertical-align: middle;\n",
       "    }\n",
       "\n",
       "    .dataframe tbody tr th {\n",
       "        vertical-align: top;\n",
       "    }\n",
       "\n",
       "    .dataframe thead th {\n",
       "        text-align: right;\n",
       "    }\n",
       "</style>\n",
       "<table border=\"1\" class=\"dataframe\">\n",
       "  <thead>\n",
       "    <tr style=\"text-align: right;\">\n",
       "      <th></th>\n",
       "      <th>Unnamed: 0</th>\n",
       "      <th>type</th>\n",
       "      <th>review</th>\n",
       "      <th>label</th>\n",
       "      <th>file</th>\n",
       "    </tr>\n",
       "  </thead>\n",
       "  <tbody>\n",
       "    <tr>\n",
       "      <th>0</th>\n",
       "      <td>0</td>\n",
       "      <td>test</td>\n",
       "      <td>Once again Mr. Costner has dragged out a movie...</td>\n",
       "      <td>neg</td>\n",
       "      <td>0_2.txt</td>\n",
       "    </tr>\n",
       "    <tr>\n",
       "      <th>1</th>\n",
       "      <td>1</td>\n",
       "      <td>test</td>\n",
       "      <td>This is an example of why the majority of acti...</td>\n",
       "      <td>neg</td>\n",
       "      <td>10000_4.txt</td>\n",
       "    </tr>\n",
       "    <tr>\n",
       "      <th>2</th>\n",
       "      <td>2</td>\n",
       "      <td>test</td>\n",
       "      <td>First of all I hate those moronic rappers, who...</td>\n",
       "      <td>neg</td>\n",
       "      <td>10001_1.txt</td>\n",
       "    </tr>\n",
       "    <tr>\n",
       "      <th>3</th>\n",
       "      <td>3</td>\n",
       "      <td>test</td>\n",
       "      <td>Not even the Beatles could write songs everyon...</td>\n",
       "      <td>neg</td>\n",
       "      <td>10002_3.txt</td>\n",
       "    </tr>\n",
       "    <tr>\n",
       "      <th>4</th>\n",
       "      <td>4</td>\n",
       "      <td>test</td>\n",
       "      <td>Brass pictures (movies is not a fitting word f...</td>\n",
       "      <td>neg</td>\n",
       "      <td>10003_3.txt</td>\n",
       "    </tr>\n",
       "    <tr>\n",
       "      <th>5</th>\n",
       "      <td>5</td>\n",
       "      <td>test</td>\n",
       "      <td>A funny thing happened to me while watching \"M...</td>\n",
       "      <td>neg</td>\n",
       "      <td>10004_2.txt</td>\n",
       "    </tr>\n",
       "    <tr>\n",
       "      <th>6</th>\n",
       "      <td>6</td>\n",
       "      <td>test</td>\n",
       "      <td>This German horror film has to be one of the w...</td>\n",
       "      <td>neg</td>\n",
       "      <td>10005_2.txt</td>\n",
       "    </tr>\n",
       "    <tr>\n",
       "      <th>7</th>\n",
       "      <td>7</td>\n",
       "      <td>test</td>\n",
       "      <td>Being a long-time fan of Japanese film, I expe...</td>\n",
       "      <td>neg</td>\n",
       "      <td>10006_2.txt</td>\n",
       "    </tr>\n",
       "    <tr>\n",
       "      <th>8</th>\n",
       "      <td>8</td>\n",
       "      <td>test</td>\n",
       "      <td>\"Tokyo Eyes\" tells of a 17 year old Japanese g...</td>\n",
       "      <td>neg</td>\n",
       "      <td>10007_4.txt</td>\n",
       "    </tr>\n",
       "    <tr>\n",
       "      <th>9</th>\n",
       "      <td>9</td>\n",
       "      <td>test</td>\n",
       "      <td>Wealthy horse ranchers in Buenos Aires have a ...</td>\n",
       "      <td>neg</td>\n",
       "      <td>10008_4.txt</td>\n",
       "    </tr>\n",
       "  </tbody>\n",
       "</table>\n",
       "</div>"
      ],
      "text/plain": [
       "   Unnamed: 0  type                                             review label  \\\n",
       "0           0  test  Once again Mr. Costner has dragged out a movie...   neg   \n",
       "1           1  test  This is an example of why the majority of acti...   neg   \n",
       "2           2  test  First of all I hate those moronic rappers, who...   neg   \n",
       "3           3  test  Not even the Beatles could write songs everyon...   neg   \n",
       "4           4  test  Brass pictures (movies is not a fitting word f...   neg   \n",
       "5           5  test  A funny thing happened to me while watching \"M...   neg   \n",
       "6           6  test  This German horror film has to be one of the w...   neg   \n",
       "7           7  test  Being a long-time fan of Japanese film, I expe...   neg   \n",
       "8           8  test  \"Tokyo Eyes\" tells of a 17 year old Japanese g...   neg   \n",
       "9           9  test  Wealthy horse ranchers in Buenos Aires have a ...   neg   \n",
       "\n",
       "          file  \n",
       "0      0_2.txt  \n",
       "1  10000_4.txt  \n",
       "2  10001_1.txt  \n",
       "3  10002_3.txt  \n",
       "4  10003_3.txt  \n",
       "5  10004_2.txt  \n",
       "6  10005_2.txt  \n",
       "7  10006_2.txt  \n",
       "8  10007_4.txt  \n",
       "9  10008_4.txt  "
      ]
     },
     "execution_count": 2,
     "metadata": {},
     "output_type": "execute_result"
    }
   ],
   "source": [
    "df.head(10)\n"
   ]
  },
  {
   "cell_type": "code",
   "execution_count": 3,
   "metadata": {},
   "outputs": [
    {
     "name": "stdout",
     "output_type": "stream",
     "text": [
      "0          neg\n",
      "1          neg\n",
      "2          neg\n",
      "3          neg\n",
      "4          neg\n",
      "5          neg\n",
      "6          neg\n",
      "7          neg\n",
      "8          neg\n",
      "9          neg\n",
      "10         neg\n",
      "11         neg\n",
      "12         neg\n",
      "13         neg\n",
      "14         neg\n",
      "15         neg\n",
      "16         neg\n",
      "17         neg\n",
      "18         neg\n",
      "19         neg\n",
      "20         neg\n",
      "21         neg\n",
      "22         neg\n",
      "23         neg\n",
      "24         neg\n",
      "25         neg\n",
      "26         neg\n",
      "27         neg\n",
      "28         neg\n",
      "29         neg\n",
      "         ...  \n",
      "99970    unsup\n",
      "99971    unsup\n",
      "99972    unsup\n",
      "99973    unsup\n",
      "99974    unsup\n",
      "99975    unsup\n",
      "99976    unsup\n",
      "99977    unsup\n",
      "99978    unsup\n",
      "99979    unsup\n",
      "99980    unsup\n",
      "99981    unsup\n",
      "99982    unsup\n",
      "99983    unsup\n",
      "99984    unsup\n",
      "99985    unsup\n",
      "99986    unsup\n",
      "99987    unsup\n",
      "99988    unsup\n",
      "99989    unsup\n",
      "99990    unsup\n",
      "99991    unsup\n",
      "99992    unsup\n",
      "99993    unsup\n",
      "99994    unsup\n",
      "99995    unsup\n",
      "99996    unsup\n",
      "99997    unsup\n",
      "99998    unsup\n",
      "99999    unsup\n",
      "Name: label, Length: 100000, dtype: object\n"
     ]
    }
   ],
   "source": [
    "#Plot stars clomun to get some idea about its distribution\n",
    "print(df[\"label\"])"
   ]
  },
  {
   "cell_type": "code",
   "execution_count": 4,
   "metadata": {},
   "outputs": [],
   "source": [
    "X = df.review\n",
    "y = df.label"
   ]
  },
  {
   "cell_type": "code",
   "execution_count": 5,
   "metadata": {},
   "outputs": [],
   "source": [
    "from sklearn.model_selection import train_test_split\n",
    "X_train, X_test, y_train, y_test = train_test_split(X, y, random_state=2)"
   ]
  },
  {
   "cell_type": "code",
   "execution_count": 6,
   "metadata": {},
   "outputs": [
    {
     "name": "stdout",
     "output_type": "stream",
     "text": [
      "73645    unsup\n",
      "4480       neg\n",
      "95934    unsup\n",
      "57891    unsup\n",
      "76925    unsup\n",
      "82459    unsup\n",
      "74127    unsup\n",
      "62005    unsup\n",
      "53101    unsup\n",
      "93251    unsup\n",
      "31335      neg\n",
      "84608    unsup\n",
      "12178      neg\n",
      "80046    unsup\n",
      "63442    unsup\n",
      "67278    unsup\n",
      "58470    unsup\n",
      "73544    unsup\n",
      "47169      pos\n",
      "53326    unsup\n",
      "64651    unsup\n",
      "37977      pos\n",
      "33126      neg\n",
      "84368    unsup\n",
      "6962       neg\n",
      "53704    unsup\n",
      "78972    unsup\n",
      "20814      pos\n",
      "43266      pos\n",
      "34863      neg\n",
      "         ...  \n",
      "56643    unsup\n",
      "16639      pos\n",
      "86908    unsup\n",
      "20026      pos\n",
      "15905      pos\n",
      "8170       neg\n",
      "60966    unsup\n",
      "95083    unsup\n",
      "21418      pos\n",
      "51879    unsup\n",
      "85620    unsup\n",
      "41084      pos\n",
      "72084    unsup\n",
      "51930    unsup\n",
      "32031      neg\n",
      "11071      neg\n",
      "70703    unsup\n",
      "35541      neg\n",
      "43595      pos\n",
      "33201      neg\n",
      "53922    unsup\n",
      "44295      pos\n",
      "80232    unsup\n",
      "33867      neg\n",
      "84434    unsup\n",
      "31019      neg\n",
      "44566      pos\n",
      "95816    unsup\n",
      "72173    unsup\n",
      "89256    unsup\n",
      "Name: label, Length: 75000, dtype: object\n"
     ]
    }
   ],
   "source": [
    "print(y_train)"
   ]
  },
  {
   "cell_type": "code",
   "execution_count": 7,
   "metadata": {},
   "outputs": [],
   "source": [
    "\n",
    "#Import CountVectorizer for feature extraction\n",
    "from sklearn.feature_extraction.text import CountVectorizer\n",
    "vect = CountVectorizer()"
   ]
  },
  {
   "cell_type": "code",
   "execution_count": 8,
   "metadata": {},
   "outputs": [
    {
     "name": "stdout",
     "output_type": "stream",
     "text": [
      "CountVectorizer(analyzer='word', binary=False, decode_error='strict',\n",
      "        dtype=<class 'numpy.int64'>, encoding='utf-8', input='content',\n",
      "        lowercase=True, max_df=1.0, max_features=None, min_df=1,\n",
      "        ngram_range=(1, 1), preprocessor=None, stop_words=None,\n",
      "        strip_accents=None, token_pattern='(?u)\\\\b\\\\w\\\\w+\\\\b',\n",
      "        tokenizer=None, vocabulary=None)\n"
     ]
    }
   ],
   "source": [
    "print(vect)"
   ]
  },
  {
   "cell_type": "code",
   "execution_count": 9,
   "metadata": {},
   "outputs": [],
   "source": [
    "#Define document term matrix using CountVectorizer\n",
    "X_train_dtm = vect.fit_transform(X_train)\n",
    "X_test_dtm = vect.transform(X_test)"
   ]
  },
  {
   "cell_type": "code",
   "execution_count": 10,
   "metadata": {},
   "outputs": [
    {
     "name": "stdout",
     "output_type": "stream",
     "text": [
      "  (0, 112530)\t1\n",
      "  (0, 50746)\t1\n",
      "  (0, 54791)\t1\n",
      "  (0, 122395)\t1\n",
      "  (0, 24577)\t1\n",
      "  (0, 77827)\t1\n",
      "  (0, 80171)\t1\n",
      "  (0, 119151)\t1\n",
      "  (0, 20029)\t1\n",
      "  (0, 118287)\t1\n",
      "  (0, 122377)\t1\n",
      "  (0, 33461)\t1\n",
      "  (0, 5085)\t1\n",
      "  (0, 3801)\t1\n",
      "  (0, 36944)\t1\n",
      "  (0, 112772)\t1\n",
      "  (0, 111785)\t2\n",
      "  (0, 1690)\t1\n",
      "  (0, 113416)\t1\n",
      "  (0, 41560)\t1\n",
      "  (0, 97871)\t1\n",
      "  (0, 123267)\t1\n",
      "  (0, 65674)\t1\n",
      "  (0, 91523)\t1\n",
      "  (0, 126067)\t1\n",
      "  :\t:\n",
      "  (74999, 65669)\t1\n",
      "  (74999, 124266)\t1\n",
      "  (74999, 79665)\t9\n",
      "  (74999, 124896)\t1\n",
      "  (74999, 113759)\t6\n",
      "  (74999, 47282)\t1\n",
      "  (74999, 74633)\t1\n",
      "  (74999, 104614)\t1\n",
      "  (74999, 80144)\t6\n",
      "  (74999, 123515)\t1\n",
      "  (74999, 15206)\t14\n",
      "  (74999, 112453)\t24\n",
      "  (74999, 57956)\t8\n",
      "  (74999, 17214)\t4\n",
      "  (74999, 11067)\t1\n",
      "  (74999, 78650)\t6\n",
      "  (74999, 122300)\t4\n",
      "  (74999, 41190)\t3\n",
      "  (74999, 112826)\t9\n",
      "  (74999, 48080)\t1\n",
      "  (74999, 5754)\t8\n",
      "  (74999, 55557)\t4\n",
      "  (74999, 43862)\t3\n",
      "  (74999, 58139)\t9\n",
      "  (74999, 112424)\t7\n"
     ]
    }
   ],
   "source": [
    "print(X_train_dtm)"
   ]
  },
  {
   "cell_type": "code",
   "execution_count": 11,
   "metadata": {},
   "outputs": [],
   "source": [
    "from sklearn.naive_bayes import MultinomialNB\n",
    "nb = MultinomialNB()"
   ]
  },
  {
   "cell_type": "code",
   "execution_count": 12,
   "metadata": {},
   "outputs": [
    {
     "data": {
      "text/plain": [
       "MultinomialNB(alpha=1.0, class_prior=None, fit_prior=True)"
      ]
     },
     "execution_count": 12,
     "metadata": {},
     "output_type": "execute_result"
    }
   ],
   "source": [
    "nb.fit(X_train_dtm, y_train)\n"
   ]
  },
  {
   "cell_type": "code",
   "execution_count": 13,
   "metadata": {},
   "outputs": [],
   "source": [
    "y_pred_class = nb.predict(X_test_dtm)\n"
   ]
  },
  {
   "cell_type": "code",
   "execution_count": 14,
   "metadata": {},
   "outputs": [
    {
     "data": {
      "text/plain": [
       "0.5978"
      ]
     },
     "execution_count": 14,
     "metadata": {},
     "output_type": "execute_result"
    }
   ],
   "source": [
    "from sklearn import metrics\n",
    "metrics.accuracy_score(y_test, y_pred_class)\n"
   ]
  },
  {
   "cell_type": "code",
   "execution_count": 15,
   "metadata": {},
   "outputs": [
    {
     "data": {
      "text/plain": [
       "array([[4213,  341, 1707],\n",
       "       [ 512, 3947, 1921],\n",
       "       [3660, 1914, 6785]])"
      ]
     },
     "execution_count": 15,
     "metadata": {},
     "output_type": "execute_result"
    }
   ],
   "source": [
    "metrics.confusion_matrix(y_test, y_pred_class)\n"
   ]
  },
  {
   "cell_type": "code",
   "execution_count": null,
   "metadata": {},
   "outputs": [],
   "source": []
  }
 ],
 "metadata": {
  "kernelspec": {
   "display_name": "personal",
   "language": "python",
   "name": "personal"
  },
  "language_info": {
   "codemirror_mode": {
    "name": "ipython",
    "version": 3
   },
   "file_extension": ".py",
   "mimetype": "text/x-python",
   "name": "python",
   "nbconvert_exporter": "python",
   "pygments_lexer": "ipython3",
   "version": "3.5.2"
  }
 },
 "nbformat": 4,
 "nbformat_minor": 2
}
