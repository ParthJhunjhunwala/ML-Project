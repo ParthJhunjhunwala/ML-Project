{
 "cells": [
  {
   "cell_type": "code",
   "execution_count": 250,
   "metadata": {},
   "outputs": [],
   "source": [
    "import numpy as np\n",
    "import pandas as pd\n",
    "import matplotlib.pyplot as plt"
   ]
  },
  {
   "cell_type": "code",
   "execution_count": 251,
   "metadata": {},
   "outputs": [],
   "source": [
    "df = pd.read_csv('imdb_master.csv', encoding = \"ISO-8859-1\")"
   ]
  },
  {
   "cell_type": "code",
   "execution_count": 252,
   "metadata": {},
   "outputs": [],
   "source": [
    "del df['Unnamed: 0']"
   ]
  },
  {
   "cell_type": "code",
   "execution_count": 253,
   "metadata": {},
   "outputs": [],
   "source": [
    "del df['file']"
   ]
  },
  {
   "cell_type": "code",
   "execution_count": 254,
   "metadata": {},
   "outputs": [],
   "source": [
    "df = df.loc[0:49999]"
   ]
  },
  {
   "cell_type": "code",
   "execution_count": 255,
   "metadata": {},
   "outputs": [],
   "source": [
    "del df['type']\n",
    "df = df.sample(frac=1).reset_index(drop=True)"
   ]
  },
  {
   "cell_type": "code",
   "execution_count": 256,
   "metadata": {},
   "outputs": [
    {
     "data": {
      "text/plain": [
       "(35000, 2)"
      ]
     },
     "execution_count": 256,
     "metadata": {},
     "output_type": "execute_result"
    }
   ],
   "source": [
    "train = df.loc[0:34999]\n",
    "train.shape"
   ]
  },
  {
   "cell_type": "code",
   "execution_count": 257,
   "metadata": {},
   "outputs": [
    {
     "data": {
      "text/plain": [
       "(15000, 2)"
      ]
     },
     "execution_count": 257,
     "metadata": {},
     "output_type": "execute_result"
    }
   ],
   "source": [
    "test = df.loc[35000:]\n",
    "test.shape"
   ]
  },
  {
   "cell_type": "code",
   "execution_count": 258,
   "metadata": {},
   "outputs": [
    {
     "data": {
      "text/plain": [
       "35000    pos\n",
       "35001    neg\n",
       "35002    neg\n",
       "35003    neg\n",
       "35004    neg\n",
       "35005    neg\n",
       "35006    pos\n",
       "35007    neg\n",
       "35008    neg\n",
       "35009    pos\n",
       "35010    pos\n",
       "35011    pos\n",
       "35012    pos\n",
       "35013    pos\n",
       "35014    pos\n",
       "35015    neg\n",
       "35016    neg\n",
       "35017    neg\n",
       "35018    neg\n",
       "35019    pos\n",
       "35020    pos\n",
       "35021    pos\n",
       "35022    neg\n",
       "35023    neg\n",
       "35024    pos\n",
       "35025    pos\n",
       "35026    pos\n",
       "35027    neg\n",
       "35028    pos\n",
       "35029    pos\n",
       "        ... \n",
       "49970    neg\n",
       "49971    neg\n",
       "49972    pos\n",
       "49973    pos\n",
       "49974    neg\n",
       "49975    neg\n",
       "49976    neg\n",
       "49977    pos\n",
       "49978    pos\n",
       "49979    neg\n",
       "49980    neg\n",
       "49981    neg\n",
       "49982    pos\n",
       "49983    neg\n",
       "49984    pos\n",
       "49985    pos\n",
       "49986    neg\n",
       "49987    neg\n",
       "49988    pos\n",
       "49989    pos\n",
       "49990    neg\n",
       "49991    pos\n",
       "49992    neg\n",
       "49993    pos\n",
       "49994    neg\n",
       "49995    neg\n",
       "49996    neg\n",
       "49997    pos\n",
       "49998    neg\n",
       "49999    pos\n",
       "Name: label, Length: 15000, dtype: object"
      ]
     },
     "execution_count": 258,
     "metadata": {},
     "output_type": "execute_result"
    }
   ],
   "source": [
    "train_data = train['review']\n",
    "test_data = test['review']\n",
    "train_labels = train['label']\n",
    "test_labels = test['label']\n",
    "test_labels"
   ]
  },
  {
   "cell_type": "code",
   "execution_count": 259,
   "metadata": {},
   "outputs": [],
   "source": [
    "from sklearn.feature_extraction.text import CountVectorizer\n",
    "vect = CountVectorizer(max_features = 2000)"
   ]
  },
  {
   "cell_type": "code",
   "execution_count": 260,
   "metadata": {},
   "outputs": [],
   "source": [
    "X_train_dtm = vect.fit_transform(train_data)\n",
    "X_test_dtm = vect.transform(test_data)"
   ]
  },
  {
   "cell_type": "code",
   "execution_count": 261,
   "metadata": {},
   "outputs": [],
   "source": [
    "train_labels = train_labels.map({'pos': 1, 'neg': 0})"
   ]
  },
  {
   "cell_type": "code",
   "execution_count": 262,
   "metadata": {},
   "outputs": [
    {
     "data": {
      "text/plain": [
       "35000    1\n",
       "35001    0\n",
       "35002    0\n",
       "35003    0\n",
       "35004    0\n",
       "35005    0\n",
       "35006    1\n",
       "35007    0\n",
       "35008    0\n",
       "35009    1\n",
       "35010    1\n",
       "35011    1\n",
       "35012    1\n",
       "35013    1\n",
       "35014    1\n",
       "35015    0\n",
       "35016    0\n",
       "35017    0\n",
       "35018    0\n",
       "35019    1\n",
       "35020    1\n",
       "35021    1\n",
       "35022    0\n",
       "35023    0\n",
       "35024    1\n",
       "35025    1\n",
       "35026    1\n",
       "35027    0\n",
       "35028    1\n",
       "35029    1\n",
       "        ..\n",
       "49970    0\n",
       "49971    0\n",
       "49972    1\n",
       "49973    1\n",
       "49974    0\n",
       "49975    0\n",
       "49976    0\n",
       "49977    1\n",
       "49978    1\n",
       "49979    0\n",
       "49980    0\n",
       "49981    0\n",
       "49982    1\n",
       "49983    0\n",
       "49984    1\n",
       "49985    1\n",
       "49986    0\n",
       "49987    0\n",
       "49988    1\n",
       "49989    1\n",
       "49990    0\n",
       "49991    1\n",
       "49992    0\n",
       "49993    1\n",
       "49994    0\n",
       "49995    0\n",
       "49996    0\n",
       "49997    1\n",
       "49998    0\n",
       "49999    1\n",
       "Name: label, Length: 15000, dtype: int64"
      ]
     },
     "execution_count": 262,
     "metadata": {},
     "output_type": "execute_result"
    }
   ],
   "source": [
    "test_labels = test_labels.map({'pos': 1, 'neg': 0})\n",
    "test_labels"
   ]
  },
  {
   "cell_type": "code",
   "execution_count": 263,
   "metadata": {},
   "outputs": [],
   "source": [
    "from sklearn.svm import LinearSVC\n",
    "svm = LinearSVC()"
   ]
  },
  {
   "cell_type": "code",
   "execution_count": 264,
   "metadata": {},
   "outputs": [
    {
     "data": {
      "text/plain": [
       "LinearSVC(C=1.0, class_weight=None, dual=True, fit_intercept=True,\n",
       "     intercept_scaling=1, loss='squared_hinge', max_iter=1000,\n",
       "     multi_class='ovr', penalty='l2', random_state=None, tol=0.0001,\n",
       "     verbose=0)"
      ]
     },
     "execution_count": 264,
     "metadata": {},
     "output_type": "execute_result"
    }
   ],
   "source": [
    "svm.fit(X_train_dtm, train_labels)"
   ]
  },
  {
   "cell_type": "code",
   "execution_count": 265,
   "metadata": {},
   "outputs": [],
   "source": [
    "y_pred_class = svm.predict(X_test_dtm)"
   ]
  },
  {
   "cell_type": "code",
   "execution_count": 266,
   "metadata": {},
   "outputs": [
    {
     "data": {
      "text/plain": [
       "0.8736666666666667"
      ]
     },
     "execution_count": 266,
     "metadata": {},
     "output_type": "execute_result"
    }
   ],
   "source": [
    "from sklearn import metrics\n",
    "metrics.accuracy_score(test_labels, y_pred_class)"
   ]
  },
  {
   "cell_type": "code",
   "execution_count": 267,
   "metadata": {},
   "outputs": [
    {
     "data": {
      "text/plain": [
       "array([[6376, 1128],\n",
       "       [ 767, 6729]])"
      ]
     },
     "execution_count": 267,
     "metadata": {},
     "output_type": "execute_result"
    }
   ],
   "source": [
    "metrics.confusion_matrix(test_labels, y_pred_class)"
   ]
  },
  {
   "cell_type": "code",
   "execution_count": 268,
   "metadata": {},
   "outputs": [
    {
     "data": {
      "text/plain": [
       "35007    If you hit your teens in the 70s, as I did, yo...\n",
       "35016    I recently watched Belle Epoque, thinking it m...\n",
       "35018    Okay, now I know where all those boring cop/ho...\n",
       "35031    I don't know about you, but what I love about ...\n",
       "35038    I was all ready to hate this but it turned out...\n",
       "35075    Despite the overwhelming cult following for th...\n",
       "35086    I chose this movie because I was looking for a...\n",
       "35103    Largely dense road movie with some comic relie...\n",
       "35122    This movie clearly has an agenda, which could ...\n",
       "35128    The frustrating thing about a movie like this,...\n",
       "Name: review, dtype: object"
      ]
     },
     "execution_count": 268,
     "metadata": {},
     "output_type": "execute_result"
    }
   ],
   "source": [
    "#Bad reviews classified as Good reviews\n",
    "test_data[test_labels < y_pred_class].head(10)"
   ]
  },
  {
   "cell_type": "code",
   "execution_count": 269,
   "metadata": {},
   "outputs": [
    {
     "data": {
      "text/plain": [
       "\"If you hit your teens in the 70s, as I did, you probably remember the stories about Studio 54 whether or not you liked disco. An exclusive club, it was the perfect symbol of 70s cultural overindulgence and self-absorption; there's even an excellent VH1 documentary about the club that could tell you everything you wanted to know about its heyday, and the stories are easily interesting enough to spawn a very captivating film.<br /><br />Sadly, this isn't it. 54 follows the lives of a few of its employees, a bartender named Shane (Ryan Phillippe), a busboy named Greg (Breckin Meyer), his wife, a coat-check girl, Anita (Selma Hayek), and of course the master of ceremonies himself, Steve Rubell (Mike Meyers). While the goings-on at the club are well represented, this film concerns itself more with the personal lives of the workers, following Shane's story the closest.<br /><br />The movie works in spurts. Sometimes it captures perfectly the shallowness of the nightlife culture (such as when Shane is taken to a dinner party and doesn't know who 'Errol Flynt' is), and other times it waxes into hokey melodrama. Some of that is inherent in the premise Â? following the underlings as they mingle in the world of the rich and fabulous Â? but a lot of it is due to the kid-gloved treatment with which both the club and Rubell are given throughout the movie. While Rubell certainly electrified the scene in New York with his penchant for over-the-top spectacle and his exclusive hand-picking of the crowds each night, the rampant drugs and sexuality are only briefly touched on; and Rubell himself, while his excesses are mentioned, come off oddly positive for a guy who was in life a liar, a cheat, a drug abuser, and promiscuous as all hell. Not that I was looking for the man to be pilloried here, but his ego directly contributed to the fall of his club and the diminishing of the nightlife culture he helped to elevate. A final scene where he gazes down at the regulars paternally is so emotionally false as to be patently absurd.<br /><br />Meyers does his best to capture Rubell, but he's given so little to work with here it's surprising his performance is effective; but he's good, and he helps to anchor the film. Philippe, whom I find generally to be a good actor, is hamstrung here by the shallowness and stupidity of his character; he's limited to a deer-in-the-headlights smile or a sullen uncomprehending frown, and even he can't translate that into a strong performance. Hayek and Meyer are both okay, again, undercut by the writing, and Neve Campbell Â? prominently featured on the DVD cover Â? appears so briefly she really has an extended cameo.<br /><br />For some reason I still find myself interested, even fascinated, by the popular culture of the second half of the seventies. But even given that, this is not a film that particularly engaged me, despite a predisposition to like it. I'd say if that era, or that club, has any interest for you, track down the VH1 special rather than this middle-of-the-road melodrama.\""
      ]
     },
     "execution_count": 269,
     "metadata": {},
     "output_type": "execute_result"
    }
   ],
   "source": [
    "test_data[35007]"
   ]
  },
  {
   "cell_type": "code",
   "execution_count": 270,
   "metadata": {},
   "outputs": [
    {
     "data": {
      "text/plain": [
       "35009    089: Footlight Parade (1933) - released 9/30/1...\n",
       "35013    Three girls (an all-female media-crew, includi...\n",
       "35014    I just wanted to say that I am watching Nation...\n",
       "35032    Cleopatra (the delicious Monica Bellucci) is c...\n",
       "35064    Spike Milligan's books and plays have defeated...\n",
       "35090    In September 2003 36-year-old Jonny Kennedy di...\n",
       "35099    Now either you like Mr Carrey's humour or you ...\n",
       "35118    This is a run-of-the-mill nature porn movie. B...\n",
       "35133    Pickup on South Street (1953), directed by mov...\n",
       "35165    Two sisters, Su-mi (IM Soo-jung) and Su-yeon (...\n",
       "Name: review, dtype: object"
      ]
     },
     "execution_count": 270,
     "metadata": {},
     "output_type": "execute_result"
    }
   ],
   "source": [
    "#Good reviews classified as Bad reviews\n",
    "test_data[test_labels > y_pred_class].head(10)"
   ]
  },
  {
   "cell_type": "code",
   "execution_count": 271,
   "metadata": {},
   "outputs": [
    {
     "data": {
      "text/plain": [
       "'089: Footlight Parade (1933) - released 9/30/1933, viewed 5/5/07.<br /><br />The ice cream cone is invented in New York.<br /><br />KEVIN: After a long and busy break, we hit another Busby Berkeley musical from Warner Bros. This time it\\'s the ultra-fast paced Footlight Parade, starring James Cagney as juggernaut stage producer Chester Kent. I am 100% certain that Cagney was channeling Berkeley with his performance of the irrepressible Kent, who has to come up with new ideas for performances every minute. Joan Blondell is also excellent as the acid-tongued secretary-turned-love interest. The Ruby Keeler/Dick Powell subplot is not as major this time but no less enjoyable. One thing that baffled me was Berkeley\\'s performances themselves, which seemed far too extravagant and complex to be performed on any stage, let alone a stage that would be showing a film afterwards. Obviously Busby doesn\\'t let a little thing like story impede him from putting together the most over-the-top musical numbers he can possibly conjure. I liked nearly all of this movie until the end, with the shamelessly offensive number \"Shanghai Lil,\" which, as one can guess, is about as stomach-turning as racially distasteful performances come.<br /><br />DOUG: Six movies in three months. Got to be a new record. AnywayÂ?this completes Warner Bros.\\' musical trilogy of 1933, preceded by \\'42nd Street\\' and \\'Gold Diggers of 1933.\\' I would definitely recommend watching all three in a row. I wonder if James Cagney was channeling Busby Berkeley while he was playing Chester Kent in this movie, or if that the role as written was inspired by Busby. I hope it was; it seems to make sense that Berkeley is the kind of guy who would see elaborate dances in everyday occurrences the way Chester does. The funny thing about Cagney was that he didn\\'t really look like a leading man in the traditional sense. He was 5\\'7\", square-headed, and talked with an odd New York accent. But the guy was quite versatile, going from the venomous gangsters that made him so famous to the fast-talking producer-types we see here. And he could dance. Basically he was a leading man in the body of a character actor. The rest of the cast has some familiar faces; Joan Blondell returns and just about steals the show as Cagney\\'s loyal and lusting secretary; Dick Powell and Ruby Keeler play the cute couple, but seem to get less screen time than before; Billy Barty pops up again as the mischievous imp. The movie is typical of the more racy and adult-oriented musicals of the pre-Code era, as opposed to those of the 50\\'s and 60\\'s that were more family oriented, and is an excellent climax of the Warner musicals of that year (the \"Shanghai Lil\" number not withstanding, with Keeler doing a poor job at looking Chinese).<br /><br />Last film: Dinner At Eight (1933). Next film: I\\'m No Angel (1933).'"
      ]
     },
     "execution_count": 271,
     "metadata": {},
     "output_type": "execute_result"
    }
   ],
   "source": [
    "test_data[35009]"
   ]
  },
  {
   "cell_type": "code",
   "execution_count": null,
   "metadata": {},
   "outputs": [],
   "source": []
  },
  {
   "cell_type": "code",
   "execution_count": null,
   "metadata": {},
   "outputs": [],
   "source": []
  }
 ],
 "metadata": {
  "kernelspec": {
   "display_name": "personal",
   "language": "python",
   "name": "personal"
  },
  "language_info": {
   "codemirror_mode": {
    "name": "ipython",
    "version": 3
   },
   "file_extension": ".py",
   "mimetype": "text/x-python",
   "name": "python",
   "nbconvert_exporter": "python",
   "pygments_lexer": "ipython3",
   "version": "3.5.2"
  }
 },
 "nbformat": 4,
 "nbformat_minor": 2
}
