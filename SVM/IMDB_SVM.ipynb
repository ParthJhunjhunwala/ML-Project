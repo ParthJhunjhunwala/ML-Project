{
 "cells": [
  {
   "cell_type": "code",
   "execution_count": 1,
   "metadata": {},
   "outputs": [],
   "source": [
    "import numpy as np\n",
    "import pandas as pd\n",
    "import matplotlib.pyplot as plt"
   ]
  },
  {
   "cell_type": "code",
   "execution_count": 2,
   "metadata": {},
   "outputs": [],
   "source": [
    "df = pd.read_csv('imdb_master.csv', encoding = \"ISO-8859-1\")"
   ]
  },
  {
   "cell_type": "code",
   "execution_count": 3,
   "metadata": {},
   "outputs": [],
   "source": [
    "del df['Unnamed: 0']"
   ]
  },
  {
   "cell_type": "code",
   "execution_count": 4,
   "metadata": {},
   "outputs": [],
   "source": [
    "del df['file']"
   ]
  },
  {
   "cell_type": "code",
   "execution_count": 5,
   "metadata": {},
   "outputs": [],
   "source": [
    "df = df.loc[0:49999]"
   ]
  },
  {
   "cell_type": "code",
   "execution_count": 6,
   "metadata": {},
   "outputs": [],
   "source": [
    "del df['type']\n",
    "df = df.sample(frac=1).reset_index(drop=True)"
   ]
  },
  {
   "cell_type": "code",
   "execution_count": 7,
   "metadata": {},
   "outputs": [
    {
     "data": {
      "text/plain": [
       "(35000, 2)"
      ]
     },
     "execution_count": 7,
     "metadata": {},
     "output_type": "execute_result"
    }
   ],
   "source": [
    "train = df.loc[0:34999]\n",
    "train.shape"
   ]
  },
  {
   "cell_type": "code",
   "execution_count": 8,
   "metadata": {},
   "outputs": [
    {
     "data": {
      "text/plain": [
       "(15000, 2)"
      ]
     },
     "execution_count": 8,
     "metadata": {},
     "output_type": "execute_result"
    }
   ],
   "source": [
    "test = df.loc[35000:]\n",
    "test.shape"
   ]
  },
  {
   "cell_type": "code",
   "execution_count": 9,
   "metadata": {},
   "outputs": [
    {
     "data": {
      "text/plain": [
       "35000    neg\n",
       "35001    neg\n",
       "35002    pos\n",
       "35003    neg\n",
       "35004    pos\n",
       "35005    pos\n",
       "35006    neg\n",
       "35007    neg\n",
       "35008    neg\n",
       "35009    pos\n",
       "35010    neg\n",
       "35011    pos\n",
       "35012    neg\n",
       "35013    neg\n",
       "35014    pos\n",
       "35015    neg\n",
       "35016    pos\n",
       "35017    neg\n",
       "35018    neg\n",
       "35019    pos\n",
       "35020    neg\n",
       "35021    neg\n",
       "35022    neg\n",
       "35023    pos\n",
       "35024    neg\n",
       "35025    neg\n",
       "35026    pos\n",
       "35027    neg\n",
       "35028    neg\n",
       "35029    pos\n",
       "        ... \n",
       "49970    neg\n",
       "49971    neg\n",
       "49972    pos\n",
       "49973    pos\n",
       "49974    neg\n",
       "49975    neg\n",
       "49976    pos\n",
       "49977    neg\n",
       "49978    pos\n",
       "49979    neg\n",
       "49980    pos\n",
       "49981    pos\n",
       "49982    pos\n",
       "49983    pos\n",
       "49984    neg\n",
       "49985    neg\n",
       "49986    neg\n",
       "49987    pos\n",
       "49988    pos\n",
       "49989    neg\n",
       "49990    neg\n",
       "49991    neg\n",
       "49992    pos\n",
       "49993    pos\n",
       "49994    pos\n",
       "49995    pos\n",
       "49996    neg\n",
       "49997    pos\n",
       "49998    pos\n",
       "49999    pos\n",
       "Name: label, Length: 15000, dtype: object"
      ]
     },
     "execution_count": 9,
     "metadata": {},
     "output_type": "execute_result"
    }
   ],
   "source": [
    "train_data = train['review']\n",
    "test_data = test['review']\n",
    "train_labels = train['label']\n",
    "test_labels = test['label']\n",
    "test_labels"
   ]
  },
  {
   "cell_type": "code",
   "execution_count": 10,
   "metadata": {},
   "outputs": [],
   "source": [
    "from sklearn.feature_extraction.text import CountVectorizer\n",
    "vect = CountVectorizer(ngram_range=(1,3), binary=True)"
   ]
  },
  {
   "cell_type": "code",
   "execution_count": 11,
   "metadata": {},
   "outputs": [],
   "source": [
    "X_train_dtm = vect.fit_transform(train_data)\n",
    "X_test_dtm = vect.transform(test_data)"
   ]
  },
  {
   "cell_type": "code",
   "execution_count": 12,
   "metadata": {},
   "outputs": [],
   "source": [
    "train_labels = train_labels.map({'pos': 1, 'neg': 0})"
   ]
  },
  {
   "cell_type": "code",
   "execution_count": 13,
   "metadata": {},
   "outputs": [
    {
     "data": {
      "text/plain": [
       "35000    0\n",
       "35001    0\n",
       "35002    1\n",
       "35003    0\n",
       "35004    1\n",
       "35005    1\n",
       "35006    0\n",
       "35007    0\n",
       "35008    0\n",
       "35009    1\n",
       "35010    0\n",
       "35011    1\n",
       "35012    0\n",
       "35013    0\n",
       "35014    1\n",
       "35015    0\n",
       "35016    1\n",
       "35017    0\n",
       "35018    0\n",
       "35019    1\n",
       "35020    0\n",
       "35021    0\n",
       "35022    0\n",
       "35023    1\n",
       "35024    0\n",
       "35025    0\n",
       "35026    1\n",
       "35027    0\n",
       "35028    0\n",
       "35029    1\n",
       "        ..\n",
       "49970    0\n",
       "49971    0\n",
       "49972    1\n",
       "49973    1\n",
       "49974    0\n",
       "49975    0\n",
       "49976    1\n",
       "49977    0\n",
       "49978    1\n",
       "49979    0\n",
       "49980    1\n",
       "49981    1\n",
       "49982    1\n",
       "49983    1\n",
       "49984    0\n",
       "49985    0\n",
       "49986    0\n",
       "49987    1\n",
       "49988    1\n",
       "49989    0\n",
       "49990    0\n",
       "49991    0\n",
       "49992    1\n",
       "49993    1\n",
       "49994    1\n",
       "49995    1\n",
       "49996    0\n",
       "49997    1\n",
       "49998    1\n",
       "49999    1\n",
       "Name: label, Length: 15000, dtype: int64"
      ]
     },
     "execution_count": 13,
     "metadata": {},
     "output_type": "execute_result"
    }
   ],
   "source": [
    "test_labels = test_labels.map({'pos': 1, 'neg': 0})\n",
    "test_labels"
   ]
  },
  {
   "cell_type": "code",
   "execution_count": 14,
   "metadata": {},
   "outputs": [],
   "source": [
    "from sklearn.svm import LinearSVC\n",
    "svm = LinearSVC()"
   ]
  },
  {
   "cell_type": "code",
   "execution_count": 15,
   "metadata": {},
   "outputs": [
    {
     "name": "stderr",
     "output_type": "stream",
     "text": [
      "/home/aayush/personal/lib/python3.5/site-packages/sklearn/svm/base.py:931: ConvergenceWarning: Liblinear failed to converge, increase the number of iterations.\n",
      "  \"the number of iterations.\", ConvergenceWarning)\n"
     ]
    },
    {
     "data": {
      "text/plain": [
       "LinearSVC(C=1.0, class_weight=None, dual=True, fit_intercept=True,\n",
       "     intercept_scaling=1, loss='squared_hinge', max_iter=1000,\n",
       "     multi_class='ovr', penalty='l2', random_state=None, tol=0.0001,\n",
       "     verbose=0)"
      ]
     },
     "execution_count": 15,
     "metadata": {},
     "output_type": "execute_result"
    }
   ],
   "source": [
    "svm.fit(X_train_dtm, train_labels)"
   ]
  },
  {
   "cell_type": "code",
   "execution_count": 16,
   "metadata": {},
   "outputs": [],
   "source": [
    "y_pred_class = svm.predict(X_test_dtm)"
   ]
  },
  {
   "cell_type": "code",
   "execution_count": 17,
   "metadata": {},
   "outputs": [
    {
     "data": {
      "text/plain": [
       "0.9079333333333334"
      ]
     },
     "execution_count": 17,
     "metadata": {},
     "output_type": "execute_result"
    }
   ],
   "source": [
    "from sklearn import metrics\n",
    "metrics.accuracy_score(test_labels, y_pred_class)"
   ]
  },
  {
   "cell_type": "code",
   "execution_count": 18,
   "metadata": {},
   "outputs": [
    {
     "data": {
      "text/plain": [
       "array([[6757,  729],\n",
       "       [ 652, 6862]])"
      ]
     },
     "execution_count": 18,
     "metadata": {},
     "output_type": "execute_result"
    }
   ],
   "source": [
    "metrics.confusion_matrix(test_labels, y_pred_class)"
   ]
  },
  {
   "cell_type": "code",
   "execution_count": 19,
   "metadata": {},
   "outputs": [
    {
     "data": {
      "text/plain": [
       "35012    I find it disconcerting that in an era when sa...\n",
       "35018    What a truly moronic movie, all I can say is t...\n",
       "35033    Kevin Spacey is my favorite actor of all time,...\n",
       "35102    When I first saw this movie, it was titled TER...\n",
       "35136    The female cast of this movie is terrific: you...\n",
       "35172    This movie has made me upset! When I think of ...\n",
       "35178    Intriguing premise should have been a 20 minut...\n",
       "35184    Director Warren Beatty's intention to turn Che...\n",
       "35198    I just saw this movie last night, and after re...\n",
       "35225    I watched the pilot and noticed more than a fe...\n",
       "Name: review, dtype: object"
      ]
     },
     "execution_count": 19,
     "metadata": {},
     "output_type": "execute_result"
    }
   ],
   "source": [
    "#Bad reviews classified as Good reviews\n",
    "test_data[test_labels < y_pred_class].head(10)"
   ]
  },
  {
   "cell_type": "code",
   "execution_count": 20,
   "metadata": {},
   "outputs": [
    {
     "data": {
      "text/plain": [
       "\"This movie is AWFUL. I haven't laughed so hard at a movie that was unintentionally funny in a long time. Leno should've stuck to stand up and late night tv. The cars in the movie were cool, but the movie by itself is the dumbest movie I've ever seen. it's pathetic, the acting is horrible, and the plot could've been written by a 4 year old. don't get me wrong, jay leno is hilarious, but not in this movie!\""
      ]
     },
     "execution_count": 20,
     "metadata": {},
     "output_type": "execute_result"
    }
   ],
   "source": [
    "test_data[35007]"
   ]
  },
  {
   "cell_type": "code",
   "execution_count": 21,
   "metadata": {},
   "outputs": [
    {
     "data": {
      "text/plain": [
       "35004    In the opening scenes of this movie a man shot...\n",
       "35005    From a bare description of THE TOLL GATE's maj...\n",
       "35031    This movie is really not all that bad. But the...\n",
       "35056    Man, if anyone was expecting a great zombie mo...\n",
       "35116    This was very funny, even if it fell apart a l...\n",
       "35156    Don't get me wrong. \"GoldenEye\" was revolution...\n",
       "35164    I agree with \"Jerry.\" It's a very underrated s...\n",
       "35219    THE BRAIN THAT WOULDN'T DIE was considered so ...\n",
       "35221    Sheba Baby is always underrated most likely be...\n",
       "35268    Shtrafbat is the story only Russians could tel...\n",
       "Name: review, dtype: object"
      ]
     },
     "execution_count": 21,
     "metadata": {},
     "output_type": "execute_result"
    }
   ],
   "source": [
    "#Good reviews classified as Bad reviews\n",
    "test_data[test_labels > y_pred_class].head(10)"
   ]
  },
  {
   "cell_type": "code",
   "execution_count": 22,
   "metadata": {},
   "outputs": [
    {
     "data": {
      "text/plain": [
       "\"Having discovered the Ring trilogy, I have been greedily gobbling up all those other Japanese and Korean films that are either on or following the bandwagon.<br /><br />I don't have an easy definition of horror, but this film certainly pushed some of my buttons, even though I can't claim that the film makes a lot of sense. I'm squeamish so there were several points in the film when I just didn't want to watch what was happening on screen. The film unnerved me so I became apprehensive of seeing things that I thought I was going to see.<br /><br />It's an imaginative film offering a great deal visually. It also provides food for thought. And plenty of material to argue about when the film is over.<br /><br />The characters are well-defined to say the least. Could they make films like this in the West?<br /><br />So it doesn't make sense in the end, but when one has an appetite for the occult, the supernatural, the bizarre, the otherworldly, then no film is going to deliver a final all-explaining pay-off.\""
      ]
     },
     "execution_count": 22,
     "metadata": {},
     "output_type": "execute_result"
    }
   ],
   "source": [
    "test_data[35009]"
   ]
  },
  {
   "cell_type": "code",
   "execution_count": null,
   "metadata": {},
   "outputs": [],
   "source": []
  },
  {
   "cell_type": "code",
   "execution_count": null,
   "metadata": {},
   "outputs": [],
   "source": []
  }
 ],
 "metadata": {
  "kernelspec": {
   "display_name": "personal",
   "language": "python",
   "name": "personal"
  },
  "language_info": {
   "codemirror_mode": {
    "name": "ipython",
    "version": 3
   },
   "file_extension": ".py",
   "mimetype": "text/x-python",
   "name": "python",
   "nbconvert_exporter": "python",
   "pygments_lexer": "ipython3",
   "version": "3.5.2"
  }
 },
 "nbformat": 4,
 "nbformat_minor": 2
}
